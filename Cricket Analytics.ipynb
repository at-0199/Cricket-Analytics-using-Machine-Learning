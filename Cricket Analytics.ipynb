{
  "nbformat": 4,
  "nbformat_minor": 0,
  "metadata": {
    "colab": {
      "provenance": [],
      "collapsed_sections": [
        "iSYyYPgMIe1G",
        "uIwpu2CSK_mU"
      ],
      "toc_visible": true
    },
    "kernelspec": {
      "name": "python3",
      "display_name": "Python 3"
    },
    "language_info": {
      "name": "python"
    }
  },
  "cells": [
    {
      "cell_type": "markdown",
      "metadata": {
        "id": "oWD41N7FHoUr"
      },
      "source": [
        "**Importing required libraries**"
      ]
    },
    {
      "cell_type": "code",
      "metadata": {
        "id": "SmLn4lw394r2"
      },
      "source": [
        "import pandas as pd\n",
        "import numpy as np\n",
        "import matplotlib.pyplot as plt\n",
        "import seaborn as sns\n",
        "%matplotlib inline\n",
        "from sklearn.model_selection import train_test_split"
      ],
      "execution_count": null,
      "outputs": []
    },
    {
      "cell_type": "markdown",
      "metadata": {
        "id": "QB1JxdwuKnQ_"
      },
      "source": [
        "**Loading Datasets**"
      ]
    },
    {
      "cell_type": "code",
      "metadata": {
        "id": "CeGdBhsy9-I0"
      },
      "source": [
        "world_cup = pd.read_csv(\"world_cup_dataset.csv\")\n",
        "results = pd.read_csv(\"results.csv\")"
      ],
      "execution_count": null,
      "outputs": []
    },
    {
      "cell_type": "code",
      "metadata": {
        "id": "tYnzNF8W-AxK",
        "colab": {
          "base_uri": "https://localhost:8080/",
          "height": 357
        },
        "outputId": "439212c9-ecee-4baf-d4c2-f76f27c14387"
      },
      "source": [
        "world_cup.head(25)"
      ],
      "execution_count": null,
      "outputs": [
        {
          "output_type": "execute_result",
          "data": {
            "text/html": [
              "<div>\n",
              "<style scoped>\n",
              "    .dataframe tbody tr th:only-of-type {\n",
              "        vertical-align: middle;\n",
              "    }\n",
              "\n",
              "    .dataframe tbody tr th {\n",
              "        vertical-align: top;\n",
              "    }\n",
              "\n",
              "    .dataframe thead th {\n",
              "        text-align: right;\n",
              "    }\n",
              "</style>\n",
              "<table border=\"1\" class=\"dataframe\">\n",
              "  <thead>\n",
              "    <tr style=\"text-align: right;\">\n",
              "      <th></th>\n",
              "      <th>Team</th>\n",
              "      <th>Group</th>\n",
              "      <th>Previous \\r\\nappearances</th>\n",
              "      <th>Previous \\r\\ntitles</th>\n",
              "      <th>Previous\\r\\n finals</th>\n",
              "      <th>Previous\\r\\n semifinals</th>\n",
              "      <th>Current \\r rank</th>\n",
              "    </tr>\n",
              "  </thead>\n",
              "  <tbody>\n",
              "    <tr>\n",
              "      <th>0</th>\n",
              "      <td>England</td>\n",
              "      <td>A</td>\n",
              "      <td>11</td>\n",
              "      <td>0</td>\n",
              "      <td>3</td>\n",
              "      <td>5</td>\n",
              "      <td>1</td>\n",
              "    </tr>\n",
              "    <tr>\n",
              "      <th>1</th>\n",
              "      <td>South Africa</td>\n",
              "      <td>A</td>\n",
              "      <td>6</td>\n",
              "      <td>0</td>\n",
              "      <td>0</td>\n",
              "      <td>4</td>\n",
              "      <td>3</td>\n",
              "    </tr>\n",
              "    <tr>\n",
              "      <th>2</th>\n",
              "      <td>West Indies</td>\n",
              "      <td>A</td>\n",
              "      <td>11</td>\n",
              "      <td>2</td>\n",
              "      <td>3</td>\n",
              "      <td>4</td>\n",
              "      <td>8</td>\n",
              "    </tr>\n",
              "    <tr>\n",
              "      <th>3</th>\n",
              "      <td>Pakistan</td>\n",
              "      <td>A</td>\n",
              "      <td>11</td>\n",
              "      <td>1</td>\n",
              "      <td>2</td>\n",
              "      <td>6</td>\n",
              "      <td>6</td>\n",
              "    </tr>\n",
              "    <tr>\n",
              "      <th>4</th>\n",
              "      <td>New Zealand</td>\n",
              "      <td>A</td>\n",
              "      <td>11</td>\n",
              "      <td>0</td>\n",
              "      <td>1</td>\n",
              "      <td>7</td>\n",
              "      <td>4</td>\n",
              "    </tr>\n",
              "    <tr>\n",
              "      <th>5</th>\n",
              "      <td>Sri Lanka</td>\n",
              "      <td>A</td>\n",
              "      <td>11</td>\n",
              "      <td>1</td>\n",
              "      <td>3</td>\n",
              "      <td>4</td>\n",
              "      <td>9</td>\n",
              "    </tr>\n",
              "    <tr>\n",
              "      <th>6</th>\n",
              "      <td>Afghanistan</td>\n",
              "      <td>A</td>\n",
              "      <td>1</td>\n",
              "      <td>0</td>\n",
              "      <td>0</td>\n",
              "      <td>0</td>\n",
              "      <td>10</td>\n",
              "    </tr>\n",
              "    <tr>\n",
              "      <th>7</th>\n",
              "      <td>Australia</td>\n",
              "      <td>A</td>\n",
              "      <td>11</td>\n",
              "      <td>5</td>\n",
              "      <td>6</td>\n",
              "      <td>7</td>\n",
              "      <td>5</td>\n",
              "    </tr>\n",
              "    <tr>\n",
              "      <th>8</th>\n",
              "      <td>Bangladesh</td>\n",
              "      <td>A</td>\n",
              "      <td>5</td>\n",
              "      <td>0</td>\n",
              "      <td>0</td>\n",
              "      <td>0</td>\n",
              "      <td>7</td>\n",
              "    </tr>\n",
              "    <tr>\n",
              "      <th>9</th>\n",
              "      <td>India</td>\n",
              "      <td>A</td>\n",
              "      <td>11</td>\n",
              "      <td>2</td>\n",
              "      <td>3</td>\n",
              "      <td>6</td>\n",
              "      <td>2</td>\n",
              "    </tr>\n",
              "  </tbody>\n",
              "</table>\n",
              "</div>"
            ],
            "text/plain": [
              "           Team Group  ...  Previous\\r\\n semifinals  Current \\r rank\n",
              "0       England     A  ...                        5                1\n",
              "1  South Africa     A  ...                        4                3\n",
              "2   West Indies     A  ...                        4                8\n",
              "3      Pakistan     A  ...                        6                6\n",
              "4   New Zealand     A  ...                        7                4\n",
              "5     Sri Lanka     A  ...                        4                9\n",
              "6   Afghanistan     A  ...                        0               10\n",
              "7     Australia     A  ...                        7                5\n",
              "8    Bangladesh     A  ...                        0                7\n",
              "9         India     A  ...                        6                2\n",
              "\n",
              "[10 rows x 7 columns]"
            ]
          },
          "metadata": {
            "tags": []
          },
          "execution_count": 3
        }
      ]
    },
    {
      "cell_type": "code",
      "metadata": {
        "id": "o7dJ9foY-Ctg",
        "colab": {
          "base_uri": "https://localhost:8080/",
          "height": 203
        },
        "outputId": "66b70f6e-749e-472e-9e7b-a98cb7b60723"
      },
      "source": [
        "results.head()"
      ],
      "execution_count": null,
      "outputs": [
        {
          "output_type": "execute_result",
          "data": {
            "text/html": [
              "<div>\n",
              "<style scoped>\n",
              "    .dataframe tbody tr th:only-of-type {\n",
              "        vertical-align: middle;\n",
              "    }\n",
              "\n",
              "    .dataframe tbody tr th {\n",
              "        vertical-align: top;\n",
              "    }\n",
              "\n",
              "    .dataframe thead th {\n",
              "        text-align: right;\n",
              "    }\n",
              "</style>\n",
              "<table border=\"1\" class=\"dataframe\">\n",
              "  <thead>\n",
              "    <tr style=\"text-align: right;\">\n",
              "      <th></th>\n",
              "      <th>date</th>\n",
              "      <th>Team_1</th>\n",
              "      <th>Team_2</th>\n",
              "      <th>Winner</th>\n",
              "      <th>Margin</th>\n",
              "      <th>Ground</th>\n",
              "    </tr>\n",
              "  </thead>\n",
              "  <tbody>\n",
              "    <tr>\n",
              "      <th>0</th>\n",
              "      <td>04-Jan-10</td>\n",
              "      <td>Bangladesh</td>\n",
              "      <td>Sri Lanka</td>\n",
              "      <td>Sri Lanka</td>\n",
              "      <td>7 wickets</td>\n",
              "      <td>Dhaka</td>\n",
              "    </tr>\n",
              "    <tr>\n",
              "      <th>1</th>\n",
              "      <td>05-Jan-10</td>\n",
              "      <td>India</td>\n",
              "      <td>Sri Lanka</td>\n",
              "      <td>Sri Lanka</td>\n",
              "      <td>5 wickets</td>\n",
              "      <td>Dhaka</td>\n",
              "    </tr>\n",
              "    <tr>\n",
              "      <th>2</th>\n",
              "      <td>07-Jan-10</td>\n",
              "      <td>Bangladesh</td>\n",
              "      <td>India</td>\n",
              "      <td>India</td>\n",
              "      <td>6 wickets</td>\n",
              "      <td>Dhaka</td>\n",
              "    </tr>\n",
              "    <tr>\n",
              "      <th>3</th>\n",
              "      <td>08-Jan-10</td>\n",
              "      <td>Bangladesh</td>\n",
              "      <td>Sri Lanka</td>\n",
              "      <td>Sri Lanka</td>\n",
              "      <td>9 wickets</td>\n",
              "      <td>Dhaka</td>\n",
              "    </tr>\n",
              "    <tr>\n",
              "      <th>4</th>\n",
              "      <td>10-Jan-10</td>\n",
              "      <td>India</td>\n",
              "      <td>Sri Lanka</td>\n",
              "      <td>India</td>\n",
              "      <td>8 wickets</td>\n",
              "      <td>Dhaka</td>\n",
              "    </tr>\n",
              "  </tbody>\n",
              "</table>\n",
              "</div>"
            ],
            "text/plain": [
              "        date      Team_1     Team_2     Winner     Margin Ground\n",
              "0  04-Jan-10  Bangladesh  Sri Lanka  Sri Lanka  7 wickets  Dhaka\n",
              "1  05-Jan-10       India  Sri Lanka  Sri Lanka  5 wickets  Dhaka\n",
              "2  07-Jan-10  Bangladesh      India      India  6 wickets  Dhaka\n",
              "3  08-Jan-10  Bangladesh  Sri Lanka  Sri Lanka  9 wickets  Dhaka\n",
              "4  10-Jan-10       India  Sri Lanka      India  8 wickets  Dhaka"
            ]
          },
          "metadata": {
            "tags": []
          },
          "execution_count": 4
        }
      ]
    },
    {
      "cell_type": "code",
      "metadata": {
        "id": "1xvS8iOU-Erv",
        "colab": {
          "base_uri": "https://localhost:8080/"
        },
        "outputId": "a6dc5e2b-5747-4b7a-f413-438935afe1b8"
      },
      "source": [
        "results.shape"
      ],
      "execution_count": null,
      "outputs": [
        {
          "output_type": "execute_result",
          "data": {
            "text/plain": [
              "(996, 6)"
            ]
          },
          "metadata": {
            "tags": []
          },
          "execution_count": 5
        }
      ]
    },
    {
      "cell_type": "markdown",
      "metadata": {
        "id": "JfWQuFdlKyqP"
      },
      "source": [
        "**Data Cleaning**"
      ]
    },
    {
      "cell_type": "code",
      "metadata": {
        "id": "swcZYEhH-Gyq",
        "colab": {
          "base_uri": "https://localhost:8080/",
          "height": 203
        },
        "outputId": "a34a2e4e-c8ec-4f0b-c4d3-03bd00b89807"
      },
      "source": [
        "worldcup_teams = ['India', 'Pakistan','Afghanistan','Sri Lanka','Bangladesh','Australia','England','South Africa','New Zealand', 'West Indies']\n",
        "df = results[(results['Team_1'].isin(worldcup_teams)) | (results['Team_2'].isin(worldcup_teams))]\n",
        "asia = df.iloc[:]\n",
        "asia.head()"
      ],
      "execution_count": null,
      "outputs": [
        {
          "output_type": "execute_result",
          "data": {
            "text/html": [
              "<div>\n",
              "<style scoped>\n",
              "    .dataframe tbody tr th:only-of-type {\n",
              "        vertical-align: middle;\n",
              "    }\n",
              "\n",
              "    .dataframe tbody tr th {\n",
              "        vertical-align: top;\n",
              "    }\n",
              "\n",
              "    .dataframe thead th {\n",
              "        text-align: right;\n",
              "    }\n",
              "</style>\n",
              "<table border=\"1\" class=\"dataframe\">\n",
              "  <thead>\n",
              "    <tr style=\"text-align: right;\">\n",
              "      <th></th>\n",
              "      <th>date</th>\n",
              "      <th>Team_1</th>\n",
              "      <th>Team_2</th>\n",
              "      <th>Winner</th>\n",
              "      <th>Margin</th>\n",
              "      <th>Ground</th>\n",
              "    </tr>\n",
              "  </thead>\n",
              "  <tbody>\n",
              "    <tr>\n",
              "      <th>0</th>\n",
              "      <td>04-Jan-10</td>\n",
              "      <td>Bangladesh</td>\n",
              "      <td>Sri Lanka</td>\n",
              "      <td>Sri Lanka</td>\n",
              "      <td>7 wickets</td>\n",
              "      <td>Dhaka</td>\n",
              "    </tr>\n",
              "    <tr>\n",
              "      <th>1</th>\n",
              "      <td>05-Jan-10</td>\n",
              "      <td>India</td>\n",
              "      <td>Sri Lanka</td>\n",
              "      <td>Sri Lanka</td>\n",
              "      <td>5 wickets</td>\n",
              "      <td>Dhaka</td>\n",
              "    </tr>\n",
              "    <tr>\n",
              "      <th>2</th>\n",
              "      <td>07-Jan-10</td>\n",
              "      <td>Bangladesh</td>\n",
              "      <td>India</td>\n",
              "      <td>India</td>\n",
              "      <td>6 wickets</td>\n",
              "      <td>Dhaka</td>\n",
              "    </tr>\n",
              "    <tr>\n",
              "      <th>3</th>\n",
              "      <td>08-Jan-10</td>\n",
              "      <td>Bangladesh</td>\n",
              "      <td>Sri Lanka</td>\n",
              "      <td>Sri Lanka</td>\n",
              "      <td>9 wickets</td>\n",
              "      <td>Dhaka</td>\n",
              "    </tr>\n",
              "    <tr>\n",
              "      <th>4</th>\n",
              "      <td>10-Jan-10</td>\n",
              "      <td>India</td>\n",
              "      <td>Sri Lanka</td>\n",
              "      <td>India</td>\n",
              "      <td>8 wickets</td>\n",
              "      <td>Dhaka</td>\n",
              "    </tr>\n",
              "  </tbody>\n",
              "</table>\n",
              "</div>"
            ],
            "text/plain": [
              "        date      Team_1     Team_2     Winner     Margin Ground\n",
              "0  04-Jan-10  Bangladesh  Sri Lanka  Sri Lanka  7 wickets  Dhaka\n",
              "1  05-Jan-10       India  Sri Lanka  Sri Lanka  5 wickets  Dhaka\n",
              "2  07-Jan-10  Bangladesh      India      India  6 wickets  Dhaka\n",
              "3  08-Jan-10  Bangladesh  Sri Lanka  Sri Lanka  9 wickets  Dhaka\n",
              "4  10-Jan-10       India  Sri Lanka      India  8 wickets  Dhaka"
            ]
          },
          "metadata": {
            "tags": []
          },
          "execution_count": 6
        }
      ]
    },
    {
      "cell_type": "code",
      "metadata": {
        "id": "UKG-isga-Myi",
        "colab": {
          "base_uri": "https://localhost:8080/"
        },
        "outputId": "0ac730e4-e152-4ce8-e9cd-89a6a56a3a00"
      },
      "source": [
        "asia.shape"
      ],
      "execution_count": null,
      "outputs": [
        {
          "output_type": "execute_result",
          "data": {
            "text/plain": [
              "(909, 6)"
            ]
          },
          "metadata": {
            "tags": []
          },
          "execution_count": 7
        }
      ]
    },
    {
      "cell_type": "code",
      "metadata": {
        "id": "hwl0NA09_bq8",
        "colab": {
          "base_uri": "https://localhost:8080/",
          "height": 203
        },
        "outputId": "36fdd533-4f12-4706-d795-272f5074ca1a"
      },
      "source": [
        "year = []\n",
        "for row in asia['date']:\n",
        "    year.append(int(row[7:]))\n",
        "asia ['match_year']= year\n",
        "asia_2010 = asia[asia.match_year >= 10 ]\n",
        "asia_2010.head()"
      ],
      "execution_count": null,
      "outputs": [
        {
          "output_type": "execute_result",
          "data": {
            "text/html": [
              "<div>\n",
              "<style scoped>\n",
              "    .dataframe tbody tr th:only-of-type {\n",
              "        vertical-align: middle;\n",
              "    }\n",
              "\n",
              "    .dataframe tbody tr th {\n",
              "        vertical-align: top;\n",
              "    }\n",
              "\n",
              "    .dataframe thead th {\n",
              "        text-align: right;\n",
              "    }\n",
              "</style>\n",
              "<table border=\"1\" class=\"dataframe\">\n",
              "  <thead>\n",
              "    <tr style=\"text-align: right;\">\n",
              "      <th></th>\n",
              "      <th>date</th>\n",
              "      <th>Team_1</th>\n",
              "      <th>Team_2</th>\n",
              "      <th>Winner</th>\n",
              "      <th>Margin</th>\n",
              "      <th>Ground</th>\n",
              "      <th>match_year</th>\n",
              "    </tr>\n",
              "  </thead>\n",
              "  <tbody>\n",
              "    <tr>\n",
              "      <th>0</th>\n",
              "      <td>04-Jan-10</td>\n",
              "      <td>Bangladesh</td>\n",
              "      <td>Sri Lanka</td>\n",
              "      <td>Sri Lanka</td>\n",
              "      <td>7 wickets</td>\n",
              "      <td>Dhaka</td>\n",
              "      <td>10</td>\n",
              "    </tr>\n",
              "    <tr>\n",
              "      <th>1</th>\n",
              "      <td>05-Jan-10</td>\n",
              "      <td>India</td>\n",
              "      <td>Sri Lanka</td>\n",
              "      <td>Sri Lanka</td>\n",
              "      <td>5 wickets</td>\n",
              "      <td>Dhaka</td>\n",
              "      <td>10</td>\n",
              "    </tr>\n",
              "    <tr>\n",
              "      <th>2</th>\n",
              "      <td>07-Jan-10</td>\n",
              "      <td>Bangladesh</td>\n",
              "      <td>India</td>\n",
              "      <td>India</td>\n",
              "      <td>6 wickets</td>\n",
              "      <td>Dhaka</td>\n",
              "      <td>10</td>\n",
              "    </tr>\n",
              "    <tr>\n",
              "      <th>3</th>\n",
              "      <td>08-Jan-10</td>\n",
              "      <td>Bangladesh</td>\n",
              "      <td>Sri Lanka</td>\n",
              "      <td>Sri Lanka</td>\n",
              "      <td>9 wickets</td>\n",
              "      <td>Dhaka</td>\n",
              "      <td>10</td>\n",
              "    </tr>\n",
              "    <tr>\n",
              "      <th>4</th>\n",
              "      <td>10-Jan-10</td>\n",
              "      <td>India</td>\n",
              "      <td>Sri Lanka</td>\n",
              "      <td>India</td>\n",
              "      <td>8 wickets</td>\n",
              "      <td>Dhaka</td>\n",
              "      <td>10</td>\n",
              "    </tr>\n",
              "  </tbody>\n",
              "</table>\n",
              "</div>"
            ],
            "text/plain": [
              "        date      Team_1     Team_2     Winner     Margin Ground  match_year\n",
              "0  04-Jan-10  Bangladesh  Sri Lanka  Sri Lanka  7 wickets  Dhaka          10\n",
              "1  05-Jan-10       India  Sri Lanka  Sri Lanka  5 wickets  Dhaka          10\n",
              "2  07-Jan-10  Bangladesh      India      India  6 wickets  Dhaka          10\n",
              "3  08-Jan-10  Bangladesh  Sri Lanka  Sri Lanka  9 wickets  Dhaka          10\n",
              "4  10-Jan-10       India  Sri Lanka      India  8 wickets  Dhaka          10"
            ]
          },
          "metadata": {
            "tags": []
          },
          "execution_count": 8
        }
      ]
    },
    {
      "cell_type": "code",
      "metadata": {
        "id": "hHzI2HgFAuNj",
        "colab": {
          "base_uri": "https://localhost:8080/"
        },
        "outputId": "e9a5a314-15ad-420a-cafd-e20b0bd4ffad"
      },
      "source": [
        "asia_2010.shape"
      ],
      "execution_count": null,
      "outputs": [
        {
          "output_type": "execute_result",
          "data": {
            "text/plain": [
              "(909, 7)"
            ]
          },
          "metadata": {
            "tags": []
          },
          "execution_count": 9
        }
      ]
    },
    {
      "cell_type": "code",
      "metadata": {
        "id": "Vb2X9KJWAzp3",
        "colab": {
          "base_uri": "https://localhost:8080/"
        },
        "outputId": "4f77c716-b477-4fbd-d758-3be324a72e22"
      },
      "source": [
        "list1= ['Canada','Ireland','Kenya','Scotland','U.A.E.','Netherlands','Hong Kong','Zimbabwe']\n",
        "asia = asia_2010[(asia_2010['Team_1'].isin(list1)) | (asia_2010['Team_2'].isin(list1) )].index\n",
        "asia_new = asia_2010.drop(asia,inplace = False)\n",
        "asia_new.count()"
      ],
      "execution_count": null,
      "outputs": [
        {
          "output_type": "execute_result",
          "data": {
            "text/plain": [
              "date          688\n",
              "Team_1        688\n",
              "Team_2        688\n",
              "Winner        688\n",
              "Margin        651\n",
              "Ground        688\n",
              "match_year    688\n",
              "dtype: int64"
            ]
          },
          "metadata": {
            "tags": []
          },
          "execution_count": 10
        }
      ]
    },
    {
      "cell_type": "code",
      "metadata": {
        "id": "IYJFa1mPBkJ_",
        "colab": {
          "base_uri": "https://localhost:8080/"
        },
        "outputId": "8609a483-c4e5-4202-d412-00de92b1d8f9"
      },
      "source": [
        "asia_new.shape"
      ],
      "execution_count": null,
      "outputs": [
        {
          "output_type": "execute_result",
          "data": {
            "text/plain": [
              "(688, 7)"
            ]
          },
          "metadata": {
            "tags": []
          },
          "execution_count": 11
        }
      ]
    },
    {
      "cell_type": "markdown",
      "metadata": {
        "id": "VunoLsIaK7Wk"
      },
      "source": [
        "**Data Visualization**"
      ]
    },
    {
      "cell_type": "code",
      "metadata": {
        "id": "703Pjs0Rtogi",
        "colab": {
          "base_uri": "https://localhost:8080/",
          "height": 296
        },
        "outputId": "2b2de645-8a6e-4327-d7ff-5e089a18ad83"
      },
      "source": [
        "sns.set_style('whitegrid')\n",
        "sns.countplot(y='Winner',data=asia_new,palette='RdBu_r')"
      ],
      "execution_count": null,
      "outputs": [
        {
          "output_type": "execute_result",
          "data": {
            "text/plain": [
              "<matplotlib.axes._subplots.AxesSubplot at 0x7f00d4768910>"
            ]
          },
          "metadata": {
            "tags": []
          },
          "execution_count": 12
        },
        {
          "output_type": "display_data",
          "data": {
            "image/png": "[encoded data removed]",
            "text/plain": [
              "<Figure size 432x288 with 1 Axes>"
            ]
          },
          "metadata": {
            "tags": []
          }
        }
      ]
    },
    {
      "cell_type": "code",
      "metadata": {
        "id": "Q3HnSrvbDqG1",
        "colab": {
          "base_uri": "https://localhost:8080/",
          "height": 296
        },
        "outputId": "547e22f5-52d9-4f93-f9b6-1c2301b6b5d4"
      },
      "source": [
        "sns.set_style('whitegrid')\n",
        "sns.countplot(y='Winner',hue='match_year',data=asia_new,palette='rainbow')"
      ],
      "execution_count": null,
      "outputs": [
        {
          "output_type": "execute_result",
          "data": {
            "text/plain": [
              "<matplotlib.axes._subplots.AxesSubplot at 0x7f00d3c23610>"
            ]
          },
          "metadata": {
            "tags": []
          },
          "execution_count": 13
        },
        {
          "output_type": "display_data",
          "data": {
            "image/png": "[encoded data removed]",
            "text/plain": [
              "<Figure size 432x288 with 1 Axes>"
            ]
          },
          "metadata": {
            "tags": []
          }
        }
      ]
    },
    {
      "cell_type": "code",
      "metadata": {
        "id": "vzlBLw4W39c0",
        "colab": {
          "base_uri": "https://localhost:8080/",
          "height": 459
        },
        "outputId": "4a505550-dfd4-4f89-a65b-f5e0008cde5c"
      },
      "source": [
        "plt.figure(figsize=(15, 7))\n",
        "sns.boxplot(x='Winner',y='match_year',data=asia_new,palette='winter')"
      ],
      "execution_count": null,
      "outputs": [
        {
          "output_type": "execute_result",
          "data": {
            "text/plain": [
              "<matplotlib.axes._subplots.AxesSubplot at 0x7f00e83cab10>"
            ]
          },
          "metadata": {
            "tags": []
          },
          "execution_count": 14
        },
        {
          "output_type": "display_data",
          "data": {
            "image/png": "[encoded data removed]",
            "text/plain": [
              "<Figure size 1080x504 with 1 Axes>"
            ]
          },
          "metadata": {
            "tags": []
          }
        }
      ]
    },
    {
      "cell_type": "code",
      "metadata": {
        "id": "jS-jwKpxBmJ7",
        "colab": {
          "base_uri": "https://localhost:8080/",
          "height": 203
        },
        "outputId": "17c7ddab-c208-4d86-ac16-aabd566cdcb6"
      },
      "source": [
        "asia_new = asia_new.drop(['date','Margin', 'Ground'], axis=1)\n",
        "asia_new.head()"
      ],
      "execution_count": null,
      "outputs": [
        {
          "output_type": "execute_result",
          "data": {
            "text/html": [
              "<div>\n",
              "<style scoped>\n",
              "    .dataframe tbody tr th:only-of-type {\n",
              "        vertical-align: middle;\n",
              "    }\n",
              "\n",
              "    .dataframe tbody tr th {\n",
              "        vertical-align: top;\n",
              "    }\n",
              "\n",
              "    .dataframe thead th {\n",
              "        text-align: right;\n",
              "    }\n",
              "</style>\n",
              "<table border=\"1\" class=\"dataframe\">\n",
              "  <thead>\n",
              "    <tr style=\"text-align: right;\">\n",
              "      <th></th>\n",
              "      <th>Team_1</th>\n",
              "      <th>Team_2</th>\n",
              "      <th>Winner</th>\n",
              "      <th>match_year</th>\n",
              "    </tr>\n",
              "  </thead>\n",
              "  <tbody>\n",
              "    <tr>\n",
              "      <th>0</th>\n",
              "      <td>Bangladesh</td>\n",
              "      <td>Sri Lanka</td>\n",
              "      <td>Sri Lanka</td>\n",
              "      <td>10</td>\n",
              "    </tr>\n",
              "    <tr>\n",
              "      <th>1</th>\n",
              "      <td>India</td>\n",
              "      <td>Sri Lanka</td>\n",
              "      <td>Sri Lanka</td>\n",
              "      <td>10</td>\n",
              "    </tr>\n",
              "    <tr>\n",
              "      <th>2</th>\n",
              "      <td>Bangladesh</td>\n",
              "      <td>India</td>\n",
              "      <td>India</td>\n",
              "      <td>10</td>\n",
              "    </tr>\n",
              "    <tr>\n",
              "      <th>3</th>\n",
              "      <td>Bangladesh</td>\n",
              "      <td>Sri Lanka</td>\n",
              "      <td>Sri Lanka</td>\n",
              "      <td>10</td>\n",
              "    </tr>\n",
              "    <tr>\n",
              "      <th>4</th>\n",
              "      <td>India</td>\n",
              "      <td>Sri Lanka</td>\n",
              "      <td>India</td>\n",
              "      <td>10</td>\n",
              "    </tr>\n",
              "  </tbody>\n",
              "</table>\n",
              "</div>"
            ],
            "text/plain": [
              "       Team_1     Team_2     Winner  match_year\n",
              "0  Bangladesh  Sri Lanka  Sri Lanka          10\n",
              "1       India  Sri Lanka  Sri Lanka          10\n",
              "2  Bangladesh      India      India          10\n",
              "3  Bangladesh  Sri Lanka  Sri Lanka          10\n",
              "4       India  Sri Lanka      India          10"
            ]
          },
          "metadata": {
            "tags": []
          },
          "execution_count": 15
        }
      ]
    },
    {
      "cell_type": "code",
      "metadata": {
        "id": "NrEBzcmsGvV9"
      },
      "source": [
        "asia_new = asia_new.reset_index(drop=True)\n",
        "\n",
        "asia_new.loc[asia_new.Winner == \"India\",'asia_won']=1\n",
        "asia_new.loc[asia_new.Winner == \"Pakistan\",'asia_won']=1\n",
        "asia_new.loc[asia_new.Winner == \"Sri Lanka\",'asia_won']=1\n",
        "asia_new.loc[asia_new.Winner == \"Bangladesh\",'asia_won']=1\n",
        "asia_new.loc[asia_new.Winner == \"Afghanistan\",'asia_won']=1\n",
        "asia_new = asia_new.fillna(0)"
      ],
      "execution_count": null,
      "outputs": []
    },
    {
      "cell_type": "code",
      "metadata": {
        "id": "4w8XgQWCMFYk",
        "colab": {
          "base_uri": "https://localhost:8080/",
          "height": 297
        },
        "outputId": "51ed696e-bd61-4f72-d2b4-21fe9a4de8d3"
      },
      "source": [
        "sns.set_style('whitegrid')\n",
        "sns.countplot(x='asia_won',data=asia_new,palette='RdBu_r')"
      ],
      "execution_count": null,
      "outputs": [
        {
          "output_type": "execute_result",
          "data": {
            "text/plain": [
              "<matplotlib.axes._subplots.AxesSubplot at 0x7f00d3361c90>"
            ]
          },
          "metadata": {
            "tags": []
          },
          "execution_count": 17
        },
        {
          "output_type": "display_data",
          "data": {
            "image/png": "[encoded data removed]",
            "text/plain": [
              "<Figure size 432x288 with 1 Axes>"
            ]
          },
          "metadata": {
            "tags": []
          }
        }
      ]
    },
    {
      "cell_type": "code",
      "metadata": {
        "id": "-0rCHZLxFhls",
        "colab": {
          "base_uri": "https://localhost:8080/",
          "height": 296
        },
        "outputId": "111c2e3d-cc16-4d38-c549-dc634e50c22c"
      },
      "source": [
        "sns.set_style('whitegrid')\n",
        "sns.countplot(y='asia_won',hue='match_year',data=asia_new,palette='RdBu_r')"
      ],
      "execution_count": null,
      "outputs": [
        {
          "output_type": "execute_result",
          "data": {
            "text/plain": [
              "<matplotlib.axes._subplots.AxesSubplot at 0x7f00d331ab10>"
            ]
          },
          "metadata": {
            "tags": []
          },
          "execution_count": 18
        },
        {
          "output_type": "display_data",
          "data": {
            "image/png": "[encoded data removed]",
            "text/plain": [
              "<Figure size 432x288 with 1 Axes>"
            ]
          },
          "metadata": {
            "tags": []
          }
        }
      ]
    },
    {
      "cell_type": "code",
      "metadata": {
        "id": "PpQakhX3HjAf",
        "colab": {
          "base_uri": "https://localhost:8080/",
          "height": 203
        },
        "outputId": "d7ec0386-8e1d-4d54-9b85-d2f55df4b12f"
      },
      "source": [
        "asia_new.head()"
      ],
      "execution_count": null,
      "outputs": [
        {
          "output_type": "execute_result",
          "data": {
            "text/html": [
              "<div>\n",
              "<style scoped>\n",
              "    .dataframe tbody tr th:only-of-type {\n",
              "        vertical-align: middle;\n",
              "    }\n",
              "\n",
              "    .dataframe tbody tr th {\n",
              "        vertical-align: top;\n",
              "    }\n",
              "\n",
              "    .dataframe thead th {\n",
              "        text-align: right;\n",
              "    }\n",
              "</style>\n",
              "<table border=\"1\" class=\"dataframe\">\n",
              "  <thead>\n",
              "    <tr style=\"text-align: right;\">\n",
              "      <th></th>\n",
              "      <th>Team_1</th>\n",
              "      <th>Team_2</th>\n",
              "      <th>Winner</th>\n",
              "      <th>match_year</th>\n",
              "      <th>asia_won</th>\n",
              "    </tr>\n",
              "  </thead>\n",
              "  <tbody>\n",
              "    <tr>\n",
              "      <th>0</th>\n",
              "      <td>Bangladesh</td>\n",
              "      <td>Sri Lanka</td>\n",
              "      <td>Sri Lanka</td>\n",
              "      <td>10</td>\n",
              "      <td>1.0</td>\n",
              "    </tr>\n",
              "    <tr>\n",
              "      <th>1</th>\n",
              "      <td>India</td>\n",
              "      <td>Sri Lanka</td>\n",
              "      <td>Sri Lanka</td>\n",
              "      <td>10</td>\n",
              "      <td>1.0</td>\n",
              "    </tr>\n",
              "    <tr>\n",
              "      <th>2</th>\n",
              "      <td>Bangladesh</td>\n",
              "      <td>India</td>\n",
              "      <td>India</td>\n",
              "      <td>10</td>\n",
              "      <td>1.0</td>\n",
              "    </tr>\n",
              "    <tr>\n",
              "      <th>3</th>\n",
              "      <td>Bangladesh</td>\n",
              "      <td>Sri Lanka</td>\n",
              "      <td>Sri Lanka</td>\n",
              "      <td>10</td>\n",
              "      <td>1.0</td>\n",
              "    </tr>\n",
              "    <tr>\n",
              "      <th>4</th>\n",
              "      <td>India</td>\n",
              "      <td>Sri Lanka</td>\n",
              "      <td>India</td>\n",
              "      <td>10</td>\n",
              "      <td>1.0</td>\n",
              "    </tr>\n",
              "  </tbody>\n",
              "</table>\n",
              "</div>"
            ],
            "text/plain": [
              "       Team_1     Team_2     Winner  match_year  asia_won\n",
              "0  Bangladesh  Sri Lanka  Sri Lanka          10       1.0\n",
              "1       India  Sri Lanka  Sri Lanka          10       1.0\n",
              "2  Bangladesh      India      India          10       1.0\n",
              "3  Bangladesh  Sri Lanka  Sri Lanka          10       1.0\n",
              "4       India  Sri Lanka      India          10       1.0"
            ]
          },
          "metadata": {
            "tags": []
          },
          "execution_count": 19
        }
      ]
    },
    {
      "cell_type": "code",
      "metadata": {
        "id": "qjBKW4WyHmC9"
      },
      "source": [
        "final = pd.get_dummies(asia_new, prefix=['Team_1', 'Team_2'], columns=['Team_1', 'Team_2'])"
      ],
      "execution_count": null,
      "outputs": []
    },
    {
      "cell_type": "code",
      "metadata": {
        "id": "YsN8UoJKH8zo",
        "colab": {
          "base_uri": "https://localhost:8080/",
          "height": 290
        },
        "outputId": "d181c3ca-81a9-4d42-8068-1d7db33fd1a4"
      },
      "source": [
        "final.head()"
      ],
      "execution_count": null,
      "outputs": [
        {
          "output_type": "execute_result",
          "data": {
            "text/html": [
              "<div>\n",
              "<style scoped>\n",
              "    .dataframe tbody tr th:only-of-type {\n",
              "        vertical-align: middle;\n",
              "    }\n",
              "\n",
              "    .dataframe tbody tr th {\n",
              "        vertical-align: top;\n",
              "    }\n",
              "\n",
              "    .dataframe thead th {\n",
              "        text-align: right;\n",
              "    }\n",
              "</style>\n",
              "<table border=\"1\" class=\"dataframe\">\n",
              "  <thead>\n",
              "    <tr style=\"text-align: right;\">\n",
              "      <th></th>\n",
              "      <th>Winner</th>\n",
              "      <th>match_year</th>\n",
              "      <th>asia_won</th>\n",
              "      <th>Team_1_Afghanistan</th>\n",
              "      <th>Team_1_Australia</th>\n",
              "      <th>Team_1_Bangladesh</th>\n",
              "      <th>Team_1_England</th>\n",
              "      <th>Team_1_India</th>\n",
              "      <th>Team_1_New Zealand</th>\n",
              "      <th>Team_1_Pakistan</th>\n",
              "      <th>Team_1_South Africa</th>\n",
              "      <th>Team_1_Sri Lanka</th>\n",
              "      <th>Team_1_West Indies</th>\n",
              "      <th>Team_2_Afghanistan</th>\n",
              "      <th>Team_2_Australia</th>\n",
              "      <th>Team_2_Bangladesh</th>\n",
              "      <th>Team_2_England</th>\n",
              "      <th>Team_2_India</th>\n",
              "      <th>Team_2_New Zealand</th>\n",
              "      <th>Team_2_Pakistan</th>\n",
              "      <th>Team_2_South Africa</th>\n",
              "      <th>Team_2_Sri Lanka</th>\n",
              "      <th>Team_2_West Indies</th>\n",
              "    </tr>\n",
              "  </thead>\n",
              "  <tbody>\n",
              "    <tr>\n",
              "      <th>0</th>\n",
              "      <td>Sri Lanka</td>\n",
              "      <td>10</td>\n",
              "      <td>1.0</td>\n",
              "      <td>0</td>\n",
              "      <td>0</td>\n",
              "      <td>1</td>\n",
              "      <td>0</td>\n",
              "      <td>0</td>\n",
              "      <td>0</td>\n",
              "      <td>0</td>\n",
              "      <td>0</td>\n",
              "      <td>0</td>\n",
              "      <td>0</td>\n",
              "      <td>0</td>\n",
              "      <td>0</td>\n",
              "      <td>0</td>\n",
              "      <td>0</td>\n",
              "      <td>0</td>\n",
              "      <td>0</td>\n",
              "      <td>0</td>\n",
              "      <td>0</td>\n",
              "      <td>1</td>\n",
              "      <td>0</td>\n",
              "    </tr>\n",
              "    <tr>\n",
              "      <th>1</th>\n",
              "      <td>Sri Lanka</td>\n",
              "      <td>10</td>\n",
              "      <td>1.0</td>\n",
              "      <td>0</td>\n",
              "      <td>0</td>\n",
              "      <td>0</td>\n",
              "      <td>0</td>\n",
              "      <td>1</td>\n",
              "      <td>0</td>\n",
              "      <td>0</td>\n",
              "      <td>0</td>\n",
              "      <td>0</td>\n",
              "      <td>0</td>\n",
              "      <td>0</td>\n",
              "      <td>0</td>\n",
              "      <td>0</td>\n",
              "      <td>0</td>\n",
              "      <td>0</td>\n",
              "      <td>0</td>\n",
              "      <td>0</td>\n",
              "      <td>0</td>\n",
              "      <td>1</td>\n",
              "      <td>0</td>\n",
              "    </tr>\n",
              "    <tr>\n",
              "      <th>2</th>\n",
              "      <td>India</td>\n",
              "      <td>10</td>\n",
              "      <td>1.0</td>\n",
              "      <td>0</td>\n",
              "      <td>0</td>\n",
              "      <td>1</td>\n",
              "      <td>0</td>\n",
              "      <td>0</td>\n",
              "      <td>0</td>\n",
              "      <td>0</td>\n",
              "      <td>0</td>\n",
              "      <td>0</td>\n",
              "      <td>0</td>\n",
              "      <td>0</td>\n",
              "      <td>0</td>\n",
              "      <td>0</td>\n",
              "      <td>0</td>\n",
              "      <td>1</td>\n",
              "      <td>0</td>\n",
              "      <td>0</td>\n",
              "      <td>0</td>\n",
              "      <td>0</td>\n",
              "      <td>0</td>\n",
              "    </tr>\n",
              "    <tr>\n",
              "      <th>3</th>\n",
              "      <td>Sri Lanka</td>\n",
              "      <td>10</td>\n",
              "      <td>1.0</td>\n",
              "      <td>0</td>\n",
              "      <td>0</td>\n",
              "      <td>1</td>\n",
              "      <td>0</td>\n",
              "      <td>0</td>\n",
              "      <td>0</td>\n",
              "      <td>0</td>\n",
              "      <td>0</td>\n",
              "      <td>0</td>\n",
              "      <td>0</td>\n",
              "      <td>0</td>\n",
              "      <td>0</td>\n",
              "      <td>0</td>\n",
              "      <td>0</td>\n",
              "      <td>0</td>\n",
              "      <td>0</td>\n",
              "      <td>0</td>\n",
              "      <td>0</td>\n",
              "      <td>1</td>\n",
              "      <td>0</td>\n",
              "    </tr>\n",
              "    <tr>\n",
              "      <th>4</th>\n",
              "      <td>India</td>\n",
              "      <td>10</td>\n",
              "      <td>1.0</td>\n",
              "      <td>0</td>\n",
              "      <td>0</td>\n",
              "      <td>0</td>\n",
              "      <td>0</td>\n",
              "      <td>1</td>\n",
              "      <td>0</td>\n",
              "      <td>0</td>\n",
              "      <td>0</td>\n",
              "      <td>0</td>\n",
              "      <td>0</td>\n",
              "      <td>0</td>\n",
              "      <td>0</td>\n",
              "      <td>0</td>\n",
              "      <td>0</td>\n",
              "      <td>0</td>\n",
              "      <td>0</td>\n",
              "      <td>0</td>\n",
              "      <td>0</td>\n",
              "      <td>1</td>\n",
              "      <td>0</td>\n",
              "    </tr>\n",
              "  </tbody>\n",
              "</table>\n",
              "</div>"
            ],
            "text/plain": [
              "      Winner  match_year  ...  Team_2_Sri Lanka  Team_2_West Indies\n",
              "0  Sri Lanka          10  ...                 1                   0\n",
              "1  Sri Lanka          10  ...                 1                   0\n",
              "2      India          10  ...                 0                   0\n",
              "3  Sri Lanka          10  ...                 1                   0\n",
              "4      India          10  ...                 1                   0\n",
              "\n",
              "[5 rows x 23 columns]"
            ]
          },
          "metadata": {
            "tags": []
          },
          "execution_count": 21
        }
      ]
    },
    {
      "cell_type": "code",
      "metadata": {
        "id": "Oa9WrOY6H-3q",
        "colab": {
          "base_uri": "https://localhost:8080/"
        },
        "outputId": "e62ae829-5dae-4913-d8fc-1cdf2aff3231"
      },
      "source": [
        "final.shape"
      ],
      "execution_count": null,
      "outputs": [
        {
          "output_type": "execute_result",
          "data": {
            "text/plain": [
              "(688, 23)"
            ]
          },
          "metadata": {
            "tags": []
          },
          "execution_count": 22
        }
      ]
    },
    {
      "cell_type": "markdown",
      "metadata": {
        "id": "tQwqd5RTLJ42"
      },
      "source": [
        "# **Splitting the dataset**"
      ]
    },
    {
      "cell_type": "code",
      "metadata": {
        "id": "suHqSIo4IJ3T"
      },
      "source": [
        "X = final.drop(['Winner','asia_won'], axis=1)\n",
        "y = final[\"asia_won\"]"
      ],
      "execution_count": null,
      "outputs": []
    },
    {
      "cell_type": "code",
      "metadata": {
        "id": "KseZg5bGIS64",
        "colab": {
          "base_uri": "https://localhost:8080/",
          "height": 240
        },
        "outputId": "a2966e66-de33-4c6a-c87e-99a4e106233f"
      },
      "source": [
        "X.head()"
      ],
      "execution_count": null,
      "outputs": [
        {
          "output_type": "execute_result",
          "data": {
            "text/html": [
              "<div>\n",
              "<style scoped>\n",
              "    .dataframe tbody tr th:only-of-type {\n",
              "        vertical-align: middle;\n",
              "    }\n",
              "\n",
              "    .dataframe tbody tr th {\n",
              "        vertical-align: top;\n",
              "    }\n",
              "\n",
              "    .dataframe thead th {\n",
              "        text-align: right;\n",
              "    }\n",
              "</style>\n",
              "<table border=\"1\" class=\"dataframe\">\n",
              "  <thead>\n",
              "    <tr style=\"text-align: right;\">\n",
              "      <th></th>\n",
              "      <th>match_year</th>\n",
              "      <th>Team_1_Afghanistan</th>\n",
              "      <th>Team_1_Australia</th>\n",
              "      <th>Team_1_Bangladesh</th>\n",
              "      <th>Team_1_England</th>\n",
              "      <th>Team_1_India</th>\n",
              "      <th>Team_1_New Zealand</th>\n",
              "      <th>Team_1_Pakistan</th>\n",
              "      <th>Team_1_South Africa</th>\n",
              "      <th>Team_1_Sri Lanka</th>\n",
              "      <th>Team_1_West Indies</th>\n",
              "      <th>Team_2_Afghanistan</th>\n",
              "      <th>Team_2_Australia</th>\n",
              "      <th>Team_2_Bangladesh</th>\n",
              "      <th>Team_2_England</th>\n",
              "      <th>Team_2_India</th>\n",
              "      <th>Team_2_New Zealand</th>\n",
              "      <th>Team_2_Pakistan</th>\n",
              "      <th>Team_2_South Africa</th>\n",
              "      <th>Team_2_Sri Lanka</th>\n",
              "      <th>Team_2_West Indies</th>\n",
              "    </tr>\n",
              "  </thead>\n",
              "  <tbody>\n",
              "    <tr>\n",
              "      <th>0</th>\n",
              "      <td>10</td>\n",
              "      <td>0</td>\n",
              "      <td>0</td>\n",
              "      <td>1</td>\n",
              "      <td>0</td>\n",
              "      <td>0</td>\n",
              "      <td>0</td>\n",
              "      <td>0</td>\n",
              "      <td>0</td>\n",
              "      <td>0</td>\n",
              "      <td>0</td>\n",
              "      <td>0</td>\n",
              "      <td>0</td>\n",
              "      <td>0</td>\n",
              "      <td>0</td>\n",
              "      <td>0</td>\n",
              "      <td>0</td>\n",
              "      <td>0</td>\n",
              "      <td>0</td>\n",
              "      <td>1</td>\n",
              "      <td>0</td>\n",
              "    </tr>\n",
              "    <tr>\n",
              "      <th>1</th>\n",
              "      <td>10</td>\n",
              "      <td>0</td>\n",
              "      <td>0</td>\n",
              "      <td>0</td>\n",
              "      <td>0</td>\n",
              "      <td>1</td>\n",
              "      <td>0</td>\n",
              "      <td>0</td>\n",
              "      <td>0</td>\n",
              "      <td>0</td>\n",
              "      <td>0</td>\n",
              "      <td>0</td>\n",
              "      <td>0</td>\n",
              "      <td>0</td>\n",
              "      <td>0</td>\n",
              "      <td>0</td>\n",
              "      <td>0</td>\n",
              "      <td>0</td>\n",
              "      <td>0</td>\n",
              "      <td>1</td>\n",
              "      <td>0</td>\n",
              "    </tr>\n",
              "    <tr>\n",
              "      <th>2</th>\n",
              "      <td>10</td>\n",
              "      <td>0</td>\n",
              "      <td>0</td>\n",
              "      <td>1</td>\n",
              "      <td>0</td>\n",
              "      <td>0</td>\n",
              "      <td>0</td>\n",
              "      <td>0</td>\n",
              "      <td>0</td>\n",
              "      <td>0</td>\n",
              "      <td>0</td>\n",
              "      <td>0</td>\n",
              "      <td>0</td>\n",
              "      <td>0</td>\n",
              "      <td>0</td>\n",
              "      <td>1</td>\n",
              "      <td>0</td>\n",
              "      <td>0</td>\n",
              "      <td>0</td>\n",
              "      <td>0</td>\n",
              "      <td>0</td>\n",
              "    </tr>\n",
              "    <tr>\n",
              "      <th>3</th>\n",
              "      <td>10</td>\n",
              "      <td>0</td>\n",
              "      <td>0</td>\n",
              "      <td>1</td>\n",
              "      <td>0</td>\n",
              "      <td>0</td>\n",
              "      <td>0</td>\n",
              "      <td>0</td>\n",
              "      <td>0</td>\n",
              "      <td>0</td>\n",
              "      <td>0</td>\n",
              "      <td>0</td>\n",
              "      <td>0</td>\n",
              "      <td>0</td>\n",
              "      <td>0</td>\n",
              "      <td>0</td>\n",
              "      <td>0</td>\n",
              "      <td>0</td>\n",
              "      <td>0</td>\n",
              "      <td>1</td>\n",
              "      <td>0</td>\n",
              "    </tr>\n",
              "    <tr>\n",
              "      <th>4</th>\n",
              "      <td>10</td>\n",
              "      <td>0</td>\n",
              "      <td>0</td>\n",
              "      <td>0</td>\n",
              "      <td>0</td>\n",
              "      <td>1</td>\n",
              "      <td>0</td>\n",
              "      <td>0</td>\n",
              "      <td>0</td>\n",
              "      <td>0</td>\n",
              "      <td>0</td>\n",
              "      <td>0</td>\n",
              "      <td>0</td>\n",
              "      <td>0</td>\n",
              "      <td>0</td>\n",
              "      <td>0</td>\n",
              "      <td>0</td>\n",
              "      <td>0</td>\n",
              "      <td>0</td>\n",
              "      <td>1</td>\n",
              "      <td>0</td>\n",
              "    </tr>\n",
              "  </tbody>\n",
              "</table>\n",
              "</div>"
            ],
            "text/plain": [
              "   match_year  Team_1_Afghanistan  ...  Team_2_Sri Lanka  Team_2_West Indies\n",
              "0          10                   0  ...                 1                   0\n",
              "1          10                   0  ...                 1                   0\n",
              "2          10                   0  ...                 0                   0\n",
              "3          10                   0  ...                 1                   0\n",
              "4          10                   0  ...                 1                   0\n",
              "\n",
              "[5 rows x 21 columns]"
            ]
          },
          "metadata": {
            "tags": []
          },
          "execution_count": 24
        }
      ]
    },
    {
      "cell_type": "code",
      "metadata": {
        "id": "UpOEPl9jIV0f",
        "colab": {
          "base_uri": "https://localhost:8080/"
        },
        "outputId": "563031f9-561b-4f0b-ec3b-9a1b0cf1beac"
      },
      "source": [
        "y.head()"
      ],
      "execution_count": null,
      "outputs": [
        {
          "output_type": "execute_result",
          "data": {
            "text/plain": [
              "0    1.0\n",
              "1    1.0\n",
              "2    1.0\n",
              "3    1.0\n",
              "4    1.0\n",
              "Name: asia_won, dtype: float64"
            ]
          },
          "metadata": {
            "tags": []
          },
          "execution_count": 25
        }
      ]
    },
    {
      "cell_type": "code",
      "metadata": {
        "id": "BNsyTkT5IiOI"
      },
      "source": [
        "X_train, X_test, y_train, y_test = train_test_split(X, y, test_size=0.30)"
      ],
      "execution_count": null,
      "outputs": []
    },
    {
      "cell_type": "markdown",
      "metadata": {
        "id": "iSYyYPgMIe1G"
      },
      "source": [
        "# LOGISTIC REGRESSION"
      ]
    },
    {
      "cell_type": "code",
      "metadata": {
        "id": "4LcW691pIlVP"
      },
      "source": [
        "from sklearn.linear_model import LogisticRegression"
      ],
      "execution_count": null,
      "outputs": []
    },
    {
      "cell_type": "code",
      "metadata": {
        "id": "Lt6Bf9sgInQC",
        "colab": {
          "base_uri": "https://localhost:8080/"
        },
        "outputId": "582a5e9c-a81c-49b5-8503-aa0ee5247508"
      },
      "source": [
        "import warnings\n",
        "warnings.filterwarnings('ignore')\n",
        "cricket_log = LogisticRegression()\n",
        "cricket_log.fit(X_train,y_train)"
      ],
      "execution_count": null,
      "outputs": [
        {
          "output_type": "execute_result",
          "data": {
            "text/plain": [
              "LogisticRegression(C=1.0, class_weight=None, dual=False, fit_intercept=True,\n",
              "                   intercept_scaling=1, l1_ratio=None, max_iter=100,\n",
              "                   multi_class='auto', n_jobs=None, penalty='l2',\n",
              "                   random_state=None, solver='lbfgs', tol=0.0001, verbose=0,\n",
              "                   warm_start=False)"
            ]
          },
          "metadata": {
            "tags": []
          },
          "execution_count": 28
        }
      ]
    },
    {
      "cell_type": "code",
      "metadata": {
        "id": "_Um-vAF3Iry2"
      },
      "source": [
        "predictions = cricket_log.predict(X_test)"
      ],
      "execution_count": null,
      "outputs": []
    },
    {
      "cell_type": "code",
      "metadata": {
        "id": "gC1zQ0yVIxnZ"
      },
      "source": [
        "from sklearn import metrics\n",
        "from sklearn.metrics import classification_report, confusion_matrix"
      ],
      "execution_count": null,
      "outputs": []
    },
    {
      "cell_type": "code",
      "metadata": {
        "id": "E6KoVtK9Iz41",
        "colab": {
          "base_uri": "https://localhost:8080/"
        },
        "outputId": "973f2781-7ab9-4189-80ed-a8ddac7fb2a9"
      },
      "source": [
        "y_test.shape"
      ],
      "execution_count": null,
      "outputs": [
        {
          "output_type": "execute_result",
          "data": {
            "text/plain": [
              "(207,)"
            ]
          },
          "metadata": {
            "tags": []
          },
          "execution_count": 31
        }
      ]
    },
    {
      "cell_type": "markdown",
      "metadata": {
        "id": "aQwZnEbhLRF_"
      },
      "source": [
        "Evaluation"
      ]
    },
    {
      "cell_type": "code",
      "metadata": {
        "id": "qhmscHbAI4Gv",
        "colab": {
          "base_uri": "https://localhost:8080/",
          "height": 354
        },
        "outputId": "3650c518-7f45-4b84-fa45-d4ff44302b0e"
      },
      "source": [
        "print(\"Confusion Matrix\")\n",
        "cm=metrics.confusion_matrix(y_test, predictions, labels=[1, 0])\n",
        "\n",
        "df_cm = pd.DataFrame(cm, index = [i for i in [\"1\",\"0\"]],\n",
        "                  columns = [i for i in [\"Predict 1\",\"Predict 0\"]])\n",
        "plt.figure(figsize = (7,5))\n",
        "sns.heatmap(df_cm, annot=True)"
      ],
      "execution_count": null,
      "outputs": [
        {
          "output_type": "stream",
          "text": [
            "Confusion Matrix\n"
          ],
          "name": "stdout"
        },
        {
          "output_type": "execute_result",
          "data": {
            "text/plain": [
              "<matplotlib.axes._subplots.AxesSubplot at 0x7f00c92a9250>"
            ]
          },
          "metadata": {
            "tags": []
          },
          "execution_count": 32
        },
        {
          "output_type": "display_data",
          "data": {
            "image/png": "[encoded data removed]",
            "text/plain": [
              "<Figure size 504x360 with 2 Axes>"
            ]
          },
          "metadata": {
            "tags": []
          }
        }
      ]
    },
    {
      "cell_type": "code",
      "metadata": {
        "id": "G5qqH_2VI9ae",
        "colab": {
          "base_uri": "https://localhost:8080/"
        },
        "outputId": "1323b5b3-4474-48b8-81b0-f6ce0331c40c"
      },
      "source": [
        "print(classification_report(y_test,predictions))\n",
        "print(confusion_matrix(y_test,predictions))"
      ],
      "execution_count": null,
      "outputs": [
        {
          "output_type": "stream",
          "text": [
            "              precision    recall  f1-score   support\n",
            "\n",
            "         0.0       0.79      0.88      0.83       121\n",
            "         1.0       0.79      0.67      0.73        86\n",
            "\n",
            "    accuracy                           0.79       207\n",
            "   macro avg       0.79      0.78      0.78       207\n",
            "weighted avg       0.79      0.79      0.79       207\n",
            "\n",
            "[[106  15]\n",
            " [ 28  58]]\n"
          ],
          "name": "stdout"
        }
      ]
    },
    {
      "cell_type": "code",
      "metadata": {
        "id": "uAC6UoqrJDmf",
        "colab": {
          "base_uri": "https://localhost:8080/"
        },
        "outputId": "fcfac6f4-32dc-4b4d-e4c6-5e991d957f02"
      },
      "source": [
        "from sklearn.metrics import jaccard_similarity_score\n",
        "print(jaccard_similarity_score(y_test,predictions))"
      ],
      "execution_count": null,
      "outputs": [
        {
          "output_type": "stream",
          "text": [
            "0.7922705314009661\n"
          ],
          "name": "stdout"
        }
      ]
    },
    {
      "cell_type": "code",
      "metadata": {
        "id": "P3y2enLRJGzn"
      },
      "source": [
        "yhat_prob= cricket_log.predict_proba(X_test)\n",
        "#yhat_prob"
      ],
      "execution_count": null,
      "outputs": []
    },
    {
      "cell_type": "code",
      "metadata": {
        "id": "wdlDzPzcJKBf",
        "colab": {
          "base_uri": "https://localhost:8080/"
        },
        "outputId": "d2fedc15-71c0-4ed5-e33b-d9e5371492e6"
      },
      "source": [
        "from sklearn.metrics import log_loss\n",
        "print(log_loss(y_test,yhat_prob))"
      ],
      "execution_count": null,
      "outputs": [
        {
          "output_type": "stream",
          "text": [
            "0.38956288991621674\n"
          ],
          "name": "stdout"
        }
      ]
    },
    {
      "cell_type": "markdown",
      "metadata": {
        "id": "uIwpu2CSK_mU"
      },
      "source": [
        "# Decision tree"
      ]
    },
    {
      "cell_type": "code",
      "metadata": {
        "id": "N22E_YkqLI-X"
      },
      "source": [
        "from sklearn.tree import DecisionTreeClassifier"
      ],
      "execution_count": null,
      "outputs": []
    },
    {
      "cell_type": "code",
      "metadata": {
        "id": "OHhQ1nYgLUOp"
      },
      "source": [
        "dtree = DecisionTreeClassifier()"
      ],
      "execution_count": null,
      "outputs": []
    },
    {
      "cell_type": "code",
      "metadata": {
        "id": "1maSSPykLZeo",
        "colab": {
          "base_uri": "https://localhost:8080/"
        },
        "outputId": "8d134492-3d2a-40ab-db02-614c41110313"
      },
      "source": [
        "dtree.fit(X_train,y_train)"
      ],
      "execution_count": null,
      "outputs": [
        {
          "output_type": "execute_result",
          "data": {
            "text/plain": [
              "DecisionTreeClassifier(ccp_alpha=0.0, class_weight=None, criterion='gini',\n",
              "                       max_depth=None, max_features=None, max_leaf_nodes=None,\n",
              "                       min_impurity_decrease=0.0, min_impurity_split=None,\n",
              "                       min_samples_leaf=1, min_samples_split=2,\n",
              "                       min_weight_fraction_leaf=0.0, presort='deprecated',\n",
              "                       random_state=None, splitter='best')"
            ]
          },
          "metadata": {
            "tags": []
          },
          "execution_count": 39
        }
      ]
    },
    {
      "cell_type": "code",
      "metadata": {
        "id": "-pxR22X6Ldi_"
      },
      "source": [
        "dtpred = dtree.predict(X_test)"
      ],
      "execution_count": null,
      "outputs": []
    },
    {
      "cell_type": "markdown",
      "metadata": {
        "id": "72f0mDr8LXqT"
      },
      "source": [
        "Evaluation"
      ]
    },
    {
      "cell_type": "code",
      "metadata": {
        "id": "Ho9E5tmuLf6S",
        "colab": {
          "base_uri": "https://localhost:8080/"
        },
        "outputId": "bc0b6489-7b5e-4cfb-ab2a-53b5c0838517"
      },
      "source": [
        "print(classification_report(y_test,dtpred))"
      ],
      "execution_count": null,
      "outputs": [
        {
          "output_type": "stream",
          "text": [
            "              precision    recall  f1-score   support\n",
            "\n",
            "         0.0       0.72      0.84      0.78       121\n",
            "         1.0       0.71      0.55      0.62        86\n",
            "\n",
            "    accuracy                           0.72       207\n",
            "   macro avg       0.72      0.69      0.70       207\n",
            "weighted avg       0.72      0.72      0.71       207\n",
            "\n"
          ],
          "name": "stdout"
        }
      ]
    },
    {
      "cell_type": "code",
      "metadata": {
        "id": "_PT3-pKuLjPA",
        "colab": {
          "base_uri": "https://localhost:8080/"
        },
        "outputId": "56fdaa6f-a44f-4f7a-b665-1442d8b3bc56"
      },
      "source": [
        "print(metrics.confusion_matrix(y_test,dtpred))"
      ],
      "execution_count": null,
      "outputs": [
        {
          "output_type": "stream",
          "text": [
            "[[102  19]\n",
            " [ 39  47]]\n"
          ],
          "name": "stdout"
        }
      ]
    },
    {
      "cell_type": "code",
      "metadata": {
        "id": "_tYwqHPcPD49",
        "colab": {
          "base_uri": "https://localhost:8080/",
          "height": 354
        },
        "outputId": "acb1fc12-ec25-41b0-ef4d-cedcd6839d8c"
      },
      "source": [
        "print(\"Confusion Matrix\")\n",
        "cm=metrics.confusion_matrix(y_test, dtpred, labels=[1, 0])\n",
        "\n",
        "df_cm = pd.DataFrame(cm, index = [i for i in [\"1\",\"0\"]],\n",
        "                  columns = [i for i in [\"Predict 1\",\"Predict 0\"]])\n",
        "plt.figure(figsize = (7,5))\n",
        "sns.heatmap(df_cm, annot=True)"
      ],
      "execution_count": null,
      "outputs": [
        {
          "output_type": "stream",
          "text": [
            "Confusion Matrix\n"
          ],
          "name": "stdout"
        },
        {
          "output_type": "execute_result",
          "data": {
            "text/plain": [
              "<matplotlib.axes._subplots.AxesSubplot at 0x7f00c92a9990>"
            ]
          },
          "metadata": {
            "tags": []
          },
          "execution_count": 43
        },
        {
          "output_type": "display_data",
          "data": {
            "image/png": "[encoded data removed]",
            "text/plain": [
              "<Figure size 504x360 with 2 Axes>"
            ]
          },
          "metadata": {
            "tags": []
          }
        }
      ]
    },
    {
      "cell_type": "code",
      "metadata": {
        "id": "i1SqQLF60p0v",
        "colab": {
          "base_uri": "https://localhost:8080/"
        },
        "outputId": "ac803c5a-f19c-4cb5-e37f-2efceab2d73e"
      },
      "source": [
        "print(jaccard_similarity_score(y_test,dtpred))"
      ],
      "execution_count": null,
      "outputs": [
        {
          "output_type": "stream",
          "text": [
            "0.7198067632850241\n"
          ],
          "name": "stdout"
        }
      ]
    },
    {
      "cell_type": "markdown",
      "metadata": {
        "id": "jrz5VEGQLQv6"
      },
      "source": [
        "# NAive bayes"
      ]
    },
    {
      "cell_type": "code",
      "metadata": {
        "id": "mLhe4nL8LTmJ",
        "colab": {
          "base_uri": "https://localhost:8080/"
        },
        "outputId": "0b0784ce-1f9d-4fb5-df5d-30bdbffda927"
      },
      "source": [
        "from sklearn.naive_bayes import GaussianNB\n",
        "\n",
        "cricket = GaussianNB()\n",
        "\n",
        "cricket.fit(X_train, y_train.ravel())"
      ],
      "execution_count": null,
      "outputs": [
        {
          "output_type": "execute_result",
          "data": {
            "text/plain": [
              "GaussianNB(priors=None, var_smoothing=1e-09)"
            ]
          },
          "metadata": {
            "tags": []
          },
          "execution_count": 45
        }
      ]
    },
    {
      "cell_type": "code",
      "metadata": {
        "id": "HbnQ4M8PMgsz",
        "colab": {
          "base_uri": "https://localhost:8080/"
        },
        "outputId": "e21e3af2-993a-49a9-9679-1b59d443467a"
      },
      "source": [
        "nbpredict = cricket.predict(X_train)\n",
        "\n",
        "from sklearn import metrics\n",
        "\n",
        "print(\"Model Accuracy: {0:.2f}\".format(metrics.accuracy_score(y_train, nbpredict)))\n",
        "print()"
      ],
      "execution_count": null,
      "outputs": [
        {
          "output_type": "stream",
          "text": [
            "Model Accuracy: 0.80\n",
            "\n"
          ],
          "name": "stdout"
        }
      ]
    },
    {
      "cell_type": "code",
      "metadata": {
        "id": "ExvFcxLZMswr",
        "colab": {
          "base_uri": "https://localhost:8080/"
        },
        "outputId": "2f1286f1-bedc-48c1-8797-bb25bacad866"
      },
      "source": [
        "nbtestpredict = cricket.predict(X_test)\n",
        "\n",
        "from sklearn import metrics\n",
        "\n",
        "print(\"Model Accuracy: {0:.2f}\".format(metrics.accuracy_score(y_test, nbtestpredict)))\n",
        "print()"
      ],
      "execution_count": null,
      "outputs": [
        {
          "output_type": "stream",
          "text": [
            "Model Accuracy: 0.80\n",
            "\n"
          ],
          "name": "stdout"
        }
      ]
    },
    {
      "cell_type": "markdown",
      "metadata": {
        "id": "SuMGQkJoLdwd"
      },
      "source": [
        "**Evaluation**"
      ]
    },
    {
      "cell_type": "code",
      "metadata": {
        "id": "8vJEyATDM3cQ",
        "colab": {
          "base_uri": "https://localhost:8080/",
          "height": 354
        },
        "outputId": "ed374b03-14fd-4729-babf-632e26fa42fa"
      },
      "source": [
        "print(\"Confusion Matrix\")\n",
        "cm=metrics.confusion_matrix(y_test, nbtestpredict, labels=[1, 0])\n",
        "\n",
        "df_cm = pd.DataFrame(cm, index = [i for i in [\"1\",\"0\"]],\n",
        "                  columns = [i for i in [\"Predict 1\",\"Predict 0\"]])\n",
        "plt.figure(figsize = (7,5))\n",
        "sns.heatmap(df_cm, annot=True)"
      ],
      "execution_count": null,
      "outputs": [
        {
          "output_type": "stream",
          "text": [
            "Confusion Matrix\n"
          ],
          "name": "stdout"
        },
        {
          "output_type": "execute_result",
          "data": {
            "text/plain": [
              "<matplotlib.axes._subplots.AxesSubplot at 0x7f00c816bb50>"
            ]
          },
          "metadata": {
            "tags": []
          },
          "execution_count": 48
        },
        {
          "output_type": "display_data",
          "data": {
            "image/png": "[encoded data removed]",
            "text/plain": [
              "<Figure size 504x360 with 2 Axes>"
            ]
          },
          "metadata": {
            "tags": []
          }
        }
      ]
    },
    {
      "cell_type": "code",
      "metadata": {
        "id": "RLoRd5JpNAwL",
        "colab": {
          "base_uri": "https://localhost:8080/"
        },
        "outputId": "49339b1c-44a8-4e6e-c364-b28a1d57d8d9"
      },
      "source": [
        "print(\"Classification Report\")\n",
        "print(metrics.classification_report(y_test, nbtestpredict, labels=[1, 0]))"
      ],
      "execution_count": null,
      "outputs": [
        {
          "output_type": "stream",
          "text": [
            "Classification Report\n",
            "              precision    recall  f1-score   support\n",
            "\n",
            "           1       0.84      0.65      0.73        86\n",
            "           0       0.79      0.91      0.84       121\n",
            "\n",
            "    accuracy                           0.80       207\n",
            "   macro avg       0.81      0.78      0.79       207\n",
            "weighted avg       0.81      0.80      0.80       207\n",
            "\n"
          ],
          "name": "stdout"
        }
      ]
    },
    {
      "cell_type": "code",
      "metadata": {
        "id": "sz1H-jjnNETa",
        "colab": {
          "base_uri": "https://localhost:8080/"
        },
        "outputId": "ce576b61-3b27-4da8-ba4e-3695e34a0228"
      },
      "source": [
        "from sklearn.metrics import jaccard_similarity_score\n",
        "print(jaccard_similarity_score(y_test,nbtestpredict))"
      ],
      "execution_count": null,
      "outputs": [
        {
          "output_type": "stream",
          "text": [
            "0.8019323671497585\n"
          ],
          "name": "stdout"
        }
      ]
    },
    {
      "cell_type": "markdown",
      "metadata": {
        "id": "ppHtclcHKOEc"
      },
      "source": [
        "# KNN"
      ]
    },
    {
      "cell_type": "code",
      "metadata": {
        "id": "jOStr1hlKPY7"
      },
      "source": [
        "from sklearn.preprocessing import StandardScaler\n",
        "scaler = StandardScaler()"
      ],
      "execution_count": null,
      "outputs": []
    },
    {
      "cell_type": "code",
      "metadata": {
        "id": "t1ubfxzAPWl_",
        "colab": {
          "base_uri": "https://localhost:8080/"
        },
        "outputId": "63d95e33-227a-42f5-9606-e5ebab3b4f63"
      },
      "source": [
        "scaler.fit(X)"
      ],
      "execution_count": null,
      "outputs": [
        {
          "output_type": "execute_result",
          "data": {
            "text/plain": [
              "StandardScaler(copy=True, with_mean=True, with_std=True)"
            ]
          },
          "metadata": {
            "tags": []
          },
          "execution_count": 89
        }
      ]
    },
    {
      "cell_type": "code",
      "metadata": {
        "id": "DTrrh_YTPZ9Z",
        "colab": {
          "base_uri": "https://localhost:8080/"
        },
        "outputId": "6fc914c4-c87d-4b9c-fcff-780d68033599"
      },
      "source": [
        "scaled_features = scaler.transform(X)\n",
        "scaled_features"
      ],
      "execution_count": null,
      "outputs": [
        {
          "output_type": "execute_result",
          "data": {
            "text/plain": [
              "array([[-1.51493433, -0.10846523, -0.39535114, ..., -0.36016781,\n",
              "         2.24390011, -0.33117581],\n",
              "       [-1.51493433, -0.10846523, -0.39535114, ..., -0.36016781,\n",
              "         2.24390011, -0.33117581],\n",
              "       [-1.51493433, -0.10846523, -0.39535114, ..., -0.36016781,\n",
              "        -0.44565264, -0.33117581],\n",
              "       ...,\n",
              "       [ 1.59368251, -0.10846523, -0.39535114, ..., -0.36016781,\n",
              "         2.24390011, -0.33117581],\n",
              "       [ 1.59368251, -0.10846523, -0.39535114, ..., -0.36016781,\n",
              "        -0.44565264, -0.33117581],\n",
              "       [ 1.59368251, -0.10846523, -0.39535114, ..., -0.36016781,\n",
              "        -0.44565264, -0.33117581]])"
            ]
          },
          "metadata": {
            "tags": []
          },
          "execution_count": 90
        }
      ]
    },
    {
      "cell_type": "code",
      "metadata": {
        "id": "AwUb_F-zTaud"
      },
      "source": [
        "from sklearn.model_selection import train_test_split\n",
        "X_train, X_test, y_train, y_test = train_test_split(scaled_features,y,\n",
        "                                                    test_size=0.30)"
      ],
      "execution_count": null,
      "outputs": []
    },
    {
      "cell_type": "code",
      "metadata": {
        "id": "R4LNWnH5PhbT"
      },
      "source": [
        "from sklearn.neighbors import KNeighborsClassifier"
      ],
      "execution_count": null,
      "outputs": []
    },
    {
      "cell_type": "code",
      "metadata": {
        "id": "ROF_iVu2PlpF",
        "colab": {
          "base_uri": "https://localhost:8080/"
        },
        "outputId": "3836e762-4137-4a9c-a810-c521814d6eb8"
      },
      "source": [
        "knn = KNeighborsClassifier(n_neighbors=1)\n",
        "knn.fit(X_train,y_train)"
      ],
      "execution_count": null,
      "outputs": [
        {
          "output_type": "execute_result",
          "data": {
            "text/plain": [
              "KNeighborsClassifier(algorithm='auto', leaf_size=30, metric='minkowski',\n",
              "                     metric_params=None, n_jobs=None, n_neighbors=1, p=2,\n",
              "                     weights='uniform')"
            ]
          },
          "metadata": {
            "tags": []
          },
          "execution_count": 93
        }
      ]
    },
    {
      "cell_type": "code",
      "metadata": {
        "id": "59n7UwUePpFK"
      },
      "source": [
        "knnpred = knn.predict(X_test)"
      ],
      "execution_count": null,
      "outputs": []
    },
    {
      "cell_type": "markdown",
      "metadata": {
        "id": "3RYpTXI7Lkqr"
      },
      "source": [
        "**Evaluation**"
      ]
    },
    {
      "cell_type": "code",
      "metadata": {
        "id": "wsEDNIKBPr6z",
        "colab": {
          "base_uri": "https://localhost:8080/"
        },
        "outputId": "738a9729-c18a-4c76-e8f2-bfac262d7295"
      },
      "source": [
        "from sklearn.metrics import classification_report, confusion_matrix\n",
        "from sklearn.model_selection import cross_val_score\n",
        "print(confusion_matrix(y_test, knnpred))\n",
        "print(classification_report(y_test, knnpred))"
      ],
      "execution_count": null,
      "outputs": [
        {
          "output_type": "stream",
          "text": [
            "[[95 27]\n",
            " [23 62]]\n",
            "              precision    recall  f1-score   support\n",
            "\n",
            "         0.0       0.81      0.78      0.79       122\n",
            "         1.0       0.70      0.73      0.71        85\n",
            "\n",
            "    accuracy                           0.76       207\n",
            "   macro avg       0.75      0.75      0.75       207\n",
            "weighted avg       0.76      0.76      0.76       207\n",
            "\n"
          ],
          "name": "stdout"
        }
      ]
    },
    {
      "cell_type": "code",
      "metadata": {
        "id": "7l6c4HncTDY0",
        "colab": {
          "base_uri": "https://localhost:8080/",
          "height": 354
        },
        "outputId": "3ba1e629-c2fb-4cc4-d2f3-03c43a15cf07"
      },
      "source": [
        "print(\"Confusion Matrix\")\n",
        "cm=metrics.confusion_matrix(y_test, knnpred, labels=[1, 0])\n",
        "\n",
        "df_cm = pd.DataFrame(cm, index = [i for i in [\"1\",\"0\"]],\n",
        "                  columns = [i for i in [\"Predict 1\",\"Predict 0\"]])\n",
        "plt.figure(figsize = (7,5))\n",
        "sns.heatmap(df_cm, annot=True)"
      ],
      "execution_count": null,
      "outputs": [
        {
          "output_type": "stream",
          "text": [
            "Confusion Matrix\n"
          ],
          "name": "stdout"
        },
        {
          "output_type": "execute_result",
          "data": {
            "text/plain": [
              "<matplotlib.axes._subplots.AxesSubplot at 0x7f00c74fed50>"
            ]
          },
          "metadata": {
            "tags": []
          },
          "execution_count": 96
        },
        {
          "output_type": "display_data",
          "data": {
            "image/png": "[encoded data removed]",
            "text/plain": [
              "<Figure size 504x360 with 2 Axes>"
            ]
          },
          "metadata": {
            "tags": []
          }
        }
      ]
    },
    {
      "cell_type": "code",
      "metadata": {
        "id": "ArXRR7diPxHa",
        "colab": {
          "base_uri": "https://localhost:8080/"
        },
        "outputId": "44b9f283-cdbf-4aea-b509-8b2bda7e2b30"
      },
      "source": [
        "from sklearn.metrics import jaccard_similarity_score\n",
        "print(jaccard_similarity_score(y_test,knnpred))"
      ],
      "execution_count": null,
      "outputs": [
        {
          "output_type": "stream",
          "text": [
            "0.7584541062801933\n"
          ],
          "name": "stdout"
        }
      ]
    },
    {
      "cell_type": "code",
      "metadata": {
        "id": "RfXyPgnFPxKK"
      },
      "source": [
        "error_rate = []\n",
        "for i in range(1,50):\n",
        "    knn = KNeighborsClassifier(n_neighbors=i)\n",
        "    knn.fit(X_train, y_train)\n",
        "    pred_i=knn.predict(X_test)\n",
        "    error_rate.append(np.mean(pred_i!=y_test))"
      ],
      "execution_count": null,
      "outputs": []
    },
    {
      "cell_type": "code",
      "metadata": {
        "id": "ktxP6i5YPxNG",
        "colab": {
          "base_uri": "https://localhost:8080/",
          "height": 421
        },
        "outputId": "b4e36202-21cf-4ce1-e728-af81dbad5d96"
      },
      "source": [
        "import matplotlib.pyplot as plt\n",
        "plt.figure(figsize=(10,6))\n",
        "plt.plot(range(1,50),error_rate, color='blue',linestyle='dashed', markerfacecolor='red', markersize=10)\n",
        "plt.title('Error Rate vs kValue')\n",
        "plt.xlabel('K')\n",
        "plt.ylabel('Error Rate')"
      ],
      "execution_count": null,
      "outputs": [
        {
          "output_type": "execute_result",
          "data": {
            "text/plain": [
              "Text(0, 0.5, 'Error Rate')"
            ]
          },
          "metadata": {
            "tags": []
          },
          "execution_count": 99
        },
        {
          "output_type": "display_data",
          "data": {
            "image/png": "[encoded data removed]",
            "text/plain": [
              "<Figure size 720x432 with 1 Axes>"
            ]
          },
          "metadata": {
            "tags": []
          }
        }
      ]
    },
    {
      "cell_type": "code",
      "metadata": {
        "id": "CW7SZBiTZ2WH"
      },
      "source": [
        "accuracy_rate = []\n",
        "for i in range(1,50):\n",
        "    knn = KNeighborsClassifier(n_neighbors=i)\n",
        "    knn.fit(X_train, y_train)\n",
        "    pred_i=knn.predict(X_test)\n",
        "    accuracy_rate.append(1-np.mean(pred_i!=y_test))"
      ],
      "execution_count": null,
      "outputs": []
    },
    {
      "cell_type": "code",
      "metadata": {
        "id": "_uyZqX6MZvB2",
        "colab": {
          "base_uri": "https://localhost:8080/",
          "height": 421
        },
        "outputId": "fe1f67cb-e6a9-45de-8252-a9a2b99a3fe3"
      },
      "source": [
        "plt.figure(figsize=(10,6))\n",
        "plt.plot(range(1,50), accuracy_rate, color='blue',linestyle='dashed', markerfacecolor='red', markersize=10)\n",
        "plt.title('Accuracy rate vs kValue')\n",
        "plt.xlabel('K')\n",
        "plt.ylabel('Accuracy Rate')"
      ],
      "execution_count": null,
      "outputs": [
        {
          "output_type": "execute_result",
          "data": {
            "text/plain": [
              "Text(0, 0.5, 'Accuracy Rate')"
            ]
          },
          "metadata": {
            "tags": []
          },
          "execution_count": 101
        },
        {
          "output_type": "display_data",
          "data": {
            "image/png": "[encoded data removed]",
            "text/plain": [
              "<Figure size 720x432 with 1 Axes>"
            ]
          },
          "metadata": {
            "tags": []
          }
        }
      ]
    },
    {
      "cell_type": "code",
      "metadata": {
        "id": "GVsqhmSCP8yT",
        "colab": {
          "base_uri": "https://localhost:8080/"
        },
        "outputId": "27b8d3a6-c509-4cb5-fe52-0d1b67652c72"
      },
      "source": [
        "knn = KNeighborsClassifier(n_neighbors=15)\n",
        "knn.fit(X_train, y_train)\n",
        "pred=knn.predict(X_test)\n",
        "print('WITH K= 15')\n",
        "print('\\n')\n",
        "print(confusion_matrix(y_test, pred))\n",
        "print('\\n')\n",
        "print(classification_report(y_test, pred))"
      ],
      "execution_count": null,
      "outputs": [
        {
          "output_type": "stream",
          "text": [
            "WITH K= 15\n",
            "\n",
            "\n",
            "[[99 23]\n",
            " [25 60]]\n",
            "\n",
            "\n",
            "              precision    recall  f1-score   support\n",
            "\n",
            "         0.0       0.80      0.81      0.80       122\n",
            "         1.0       0.72      0.71      0.71        85\n",
            "\n",
            "    accuracy                           0.77       207\n",
            "   macro avg       0.76      0.76      0.76       207\n",
            "weighted avg       0.77      0.77      0.77       207\n",
            "\n"
          ],
          "name": "stdout"
        }
      ]
    },
    {
      "cell_type": "code",
      "metadata": {
        "id": "87XLdgj3FS1d",
        "colab": {
          "base_uri": "https://localhost:8080/"
        },
        "outputId": "270ccc6a-a201-4e7f-cf3b-0c7a292d75b7"
      },
      "source": [
        "knn = KNeighborsClassifier(n_neighbors=1)\n",
        "knn.fit(X_train, y_train)\n",
        "pred=knn.predict(X_test)\n",
        "print('WITH K= 1')\n",
        "print('\\n')\n",
        "print(confusion_matrix(y_test, pred))\n",
        "print('\\n')\n",
        "print(classification_report(y_test, pred))"
      ],
      "execution_count": null,
      "outputs": [
        {
          "output_type": "stream",
          "text": [
            "WITH K= 1\n",
            "\n",
            "\n",
            "[[95 27]\n",
            " [23 62]]\n",
            "\n",
            "\n",
            "              precision    recall  f1-score   support\n",
            "\n",
            "         0.0       0.81      0.78      0.79       122\n",
            "         1.0       0.70      0.73      0.71        85\n",
            "\n",
            "    accuracy                           0.76       207\n",
            "   macro avg       0.75      0.75      0.75       207\n",
            "weighted avg       0.76      0.76      0.76       207\n",
            "\n"
          ],
          "name": "stdout"
        }
      ]
    },
    {
      "cell_type": "code",
      "metadata": {
        "id": "C_aELoOUFaez",
        "colab": {
          "base_uri": "https://localhost:8080/"
        },
        "outputId": "e7fc68aa-91cc-4381-c6f3-3c9aeb25e061"
      },
      "source": [
        "knn = KNeighborsClassifier(n_neighbors=47)\n",
        "knn.fit(X_train, y_train)\n",
        "pred=knn.predict(X_test)\n",
        "print('WITH K= 24')\n",
        "print('\\n')\n",
        "print(confusion_matrix(y_test, pred))\n",
        "print('\\n')\n",
        "print(classification_report(y_test, pred))"
      ],
      "execution_count": null,
      "outputs": [
        {
          "output_type": "stream",
          "text": [
            "WITH K= 24\n",
            "\n",
            "\n",
            "[[102  20]\n",
            " [ 16  69]]\n",
            "\n",
            "\n",
            "              precision    recall  f1-score   support\n",
            "\n",
            "         0.0       0.86      0.84      0.85       122\n",
            "         1.0       0.78      0.81      0.79        85\n",
            "\n",
            "    accuracy                           0.83       207\n",
            "   macro avg       0.82      0.82      0.82       207\n",
            "weighted avg       0.83      0.83      0.83       207\n",
            "\n"
          ],
          "name": "stdout"
        }
      ]
    },
    {
      "cell_type": "code",
      "metadata": {
        "colab": {
          "base_uri": "https://localhost:8080/"
        },
        "id": "R6sA75in2TP1",
        "outputId": "ec408c36-5cf3-48e9-848b-1c0df0d67b6f"
      },
      "source": [
        "print(jaccard_similarity_score(y_test,pred))"
      ],
      "execution_count": null,
      "outputs": [
        {
          "output_type": "stream",
          "text": [
            "0.8260869565217391\n"
          ],
          "name": "stdout"
        }
      ]
    }
  ]
}